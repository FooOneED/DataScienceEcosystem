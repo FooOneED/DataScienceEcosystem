{
 "cells": [
  {
   "cell_type": "markdown",
   "id": "4504b8aa-9e97-4dd1-b0c9-2b6ccba7317e",
   "metadata": {},
   "source": [
    "# Data Science Tools and Ecosystem"
   ]
  },
  {
   "cell_type": "markdown",
   "id": "96ae9812-1ba8-4d75-aa8a-d7ee2c650380",
   "metadata": {},
   "source": [
    "## In this notebook, Data science Tools and Ecosystem are summarized."
   ]
  },
  {
   "cell_type": "markdown",
   "id": "a19b54ad-1aed-47bd-acec-ded45e7a4963",
   "metadata": {},
   "source": [
    "Some of the popular languages that Data Scientists use are : \n",
    "1. Python\n",
    "2. R\n",
    "3. SQL\n",
    "4. Julia"
   ]
  },
  {
   "cell_type": "markdown",
   "id": "6df86da7-dde3-4f71-8aac-c8307f7dcf14",
   "metadata": {},
   "source": [
    "Some of most commonly used libraries used in Data Science include : \n",
    "* Numpy\n",
    "* Pandas\n",
    "* TensorFlow\n",
    "* SciPy\n"
   ]
  },
  {
   "cell_type": "markdown",
   "id": "f5280d49-bafa-409b-9208-c23818668f23",
   "metadata": {},
   "source": [
    "| Data Science Tools          |\r\n",
    "|-----------------------------|\r\n",
    "| Jupyter Notebook            |\r\n",
    "| RStudio                     |\r\n",
    "| Apache Zeppelin             |\r\n"
   ]
  },
  {
   "cell_type": "markdown",
   "id": "35d62b25-0e70-4eba-8771-b230537ebca1",
   "metadata": {},
   "source": [
    "### Below are a few examples of evaluating arithmetic expressions in Python.\r\n"
   ]
  },
  {
   "cell_type": "code",
   "execution_count": 3,
   "id": "edb41e0a-5991-4bff-854e-0e8062e4b712",
   "metadata": {},
   "outputs": [
    {
     "data": {
      "text/plain": [
       "17"
      ]
     },
     "execution_count": 3,
     "metadata": {},
     "output_type": "execute_result"
    }
   ],
   "source": [
    "# This is a simple arithmetic expression to multiply then add integers\n",
    "(3 * 4) + 5\n"
   ]
  },
  {
   "cell_type": "code",
   "execution_count": 4,
   "id": "fb24f867-c947-45e3-84e9-ac51e417c081",
   "metadata": {},
   "outputs": [
    {
     "data": {
      "text/plain": [
       "3.3333333333333335"
      ]
     },
     "execution_count": 4,
     "metadata": {},
     "output_type": "execute_result"
    }
   ],
   "source": [
    "# This will convert 200 minutes to hours by dividing by 60\n",
    "200 / 60\n"
   ]
  },
  {
   "cell_type": "markdown",
   "id": "d251e4c4-1bf2-496b-877c-97ca3f4d999f",
   "metadata": {},
   "source": [
    "**Objectives:**\r\n",
    "\r\n",
    "- List popular languages for Data Science.\r\n",
    "- Explain tbasic actions in GitHub and JupyterNotebook.es..\r\n",
    "- Describe basic concepts in data visualization and data analience.\r\n"
   ]
  },
  {
   "cell_type": "markdown",
   "id": "3a413c02-1e65-4b1c-80a2-c55320aa6a24",
   "metadata": {},
   "source": [
    "## Author\r\n",
    "Edgars\r\n"
   ]
  },
  {
   "cell_type": "code",
   "execution_count": null,
   "id": "bf086739-333f-4525-835f-eb604970f4ce",
   "metadata": {},
   "outputs": [],
   "source": []
  }
 ],
 "metadata": {
  "kernelspec": {
   "display_name": "Python 3 (ipykernel)",
   "language": "python",
   "name": "python3"
  },
  "language_info": {
   "codemirror_mode": {
    "name": "ipython",
    "version": 3
   },
   "file_extension": ".py",
   "mimetype": "text/x-python",
   "name": "python",
   "nbconvert_exporter": "python",
   "pygments_lexer": "ipython3",
   "version": "3.12.4"
  }
 },
 "nbformat": 4,
 "nbformat_minor": 5
}
